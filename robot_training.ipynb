{
 "cells": [
  {
   "cell_type": "markdown",
   "metadata": {},
   "source": [
    "# Notebook for the training of the Teresa Robot\n",
    "## Importing all necesary tools"
   ]
  },
  {
   "cell_type": "code",
   "execution_count": 1,
   "metadata": {},
   "outputs": [],
   "source": [
    "from src.gym_envs.RobotEnv import RobotEnv # Training environment\n",
    "import numpy as np\n",
    "import roslibpy # API of ROS\n",
    "from src.robots.Teresa import Teresa # This is the representation of Teresa Robot"
   ]
  },
  {
   "cell_type": "markdown",
   "metadata": {},
   "source": [
    "## Creating the connection with ROS"
   ]
  },
  {
   "cell_type": "code",
   "execution_count": 2,
   "metadata": {
    "tags": []
   },
   "outputs": [
    {
     "output_type": "stream",
     "name": "stderr",
     "text": "2020-08-24 12:34:59,230     INFO: Connection to ROS MASTER ready.\n"
    }
   ],
   "source": [
    "HOST = 'localhost'\n",
    "PORT = 9090\n",
    "\n",
    "client = roslibpy.Ros(host=HOST, port=PORT)\n",
    "\n",
    "client.run() # This run the main loop of ROS"
   ]
  },
  {
   "cell_type": "markdown",
   "metadata": {},
   "source": [
    "## Creating representation of the robot and introducing it in the Gym Environment"
   ]
  },
  {
   "cell_type": "code",
   "execution_count": 4,
   "metadata": {},
   "outputs": [
    {
     "output_type": "execute_result",
     "data": {
      "text/plain": "0"
     },
     "metadata": {},
     "execution_count": 4
    }
   ],
   "source": [
    "teresa_controller = Teresa(client) # Robot API\n",
    "env = RobotEnv(teresa_controller) # Training Environment\n",
    "\n",
    "env.reset() # Restarting the environment to the initial state"
   ]
  },
  {
   "cell_type": "markdown",
   "metadata": {},
   "source": [
    "## Testing the environment"
   ]
  },
  {
   "cell_type": "code",
   "execution_count": 5,
   "metadata": {
    "tags": []
   },
   "outputs": [
    {
     "output_type": "stream",
     "name": "stderr",
     "text": "2020-08-24 12:35:44,709     INFO: Received image seq=0\n2020-08-24 12:35:44,779     INFO: Received image seq=1\n2020-08-24 12:35:44,839     INFO: Received image seq=2\n2020-08-24 12:35:44,926     INFO: Received image seq=3\n2020-08-24 12:35:44,991     INFO: Received image seq=4\n2020-08-24 12:35:45,061     INFO: Received image seq=5\n2020-08-24 12:35:45,131     INFO: Received image seq=6\n2020-08-24 12:35:45,215     INFO: Received image seq=7\n2020-08-24 12:35:45,257     INFO: Received image seq=8\n2020-08-24 12:35:45,314     INFO: Received image seq=9\n2020-08-24 12:35:50,562     INFO: Received image seq=10\n2020-08-24 12:35:50,655     INFO: Received image seq=11\n2020-08-24 12:35:50,738     INFO: Received image seq=12\n2020-08-24 12:35:50,814     INFO: Received image seq=13\n2020-08-24 12:35:50,949     INFO: Received image seq=14\n2020-08-24 12:35:51,048     INFO: Received image seq=15\n2020-08-24 12:35:51,149     INFO: Received image seq=16\n2020-08-24 12:35:51,227     INFO: Received image seq=17\n2020-08-24 12:35:51,338     INFO: Received image seq=18\n2020-08-24 12:35:51,425     INFO: Received image seq=19\n2020-08-24 12:35:51,491     INFO: Received image seq=20\n2020-08-24 12:35:55,491     INFO: Received image seq=21\n2020-08-24 12:35:55,551     INFO: Received image seq=22\n2020-08-24 12:35:55,662     INFO: Received image seq=23\n2020-08-24 12:35:55,801     INFO: Received image seq=24\n2020-08-24 12:35:55,881     INFO: Received image seq=25\n2020-08-24 12:35:55,950     INFO: Received image seq=26\n2020-08-24 12:35:56,048     INFO: Received image seq=27\n2020-08-24 12:35:56,123     INFO: Received image seq=28\n2020-08-24 12:35:56,197     INFO: Received image seq=29\n2020-08-24 12:35:56,266     INFO: Received image seq=30\n2020-08-24 12:35:56,377     INFO: Received image seq=31\n2020-08-24 12:36:00,441     INFO: Received image seq=31\n2020-08-24 12:36:00,525     INFO: Received image seq=32\n2020-08-24 12:36:00,603     INFO: Received image seq=33\n2020-08-24 12:36:00,689     INFO: Received image seq=34\n2020-08-24 12:36:00,759     INFO: Received image seq=35\n2020-08-24 12:36:00,828     INFO: Received image seq=36\n2020-08-24 12:36:00,926     INFO: Received image seq=37\n2020-08-24 12:36:01,017     INFO: Received image seq=38\n2020-08-24 12:36:01,103     INFO: Received image seq=39\n2020-08-24 12:36:01,174     INFO: Received image seq=40\n2020-08-24 12:36:01,241     INFO: Received image seq=41\n2020-08-24 12:36:01,322     INFO: Received image seq=42\n2020-08-24 12:36:05,410     INFO: Received image seq=42\n2020-08-24 12:36:05,487     INFO: Received image seq=43\n2020-08-24 12:36:05,602     INFO: Received image seq=44\n2020-08-24 12:36:05,674     INFO: Received image seq=45\n2020-08-24 12:36:05,744     INFO: Received image seq=46\n2020-08-24 12:36:05,831     INFO: Received image seq=47\n2020-08-24 12:36:05,904     INFO: Received image seq=48\n2020-08-24 12:36:06,003     INFO: Received image seq=49\n2020-08-24 12:36:06,087     INFO: Received image seq=50\n2020-08-24 12:36:06,176     INFO: Received image seq=51\n2020-08-24 12:36:06,229     INFO: Received image seq=52\n2020-08-24 12:36:06,307     INFO: Received image seq=53\n2020-08-24 12:36:10,434     INFO: Received image seq=53\n2020-08-24 12:36:10,526     INFO: Received image seq=54\n2020-08-24 12:36:10,629     INFO: Received image seq=55\n2020-08-24 12:36:10,694     INFO: Received image seq=56\n2020-08-24 12:36:10,751     INFO: Received image seq=57\n2020-08-24 12:36:10,864     INFO: Received image seq=58\n2020-08-24 12:36:10,980     INFO: Received image seq=59\n2020-08-24 12:36:11,078     INFO: Received image seq=60\n2020-08-24 12:36:11,157     INFO: Received image seq=61\n2020-08-24 12:36:11,293     INFO: Received image seq=62\n2020-08-24 12:36:11,357     INFO: Received image seq=63\n2020-08-24 12:36:15,447     INFO: Received image seq=63\n2020-08-24 12:36:15,530     INFO: Received image seq=64\n2020-08-24 12:36:15,642     INFO: Received image seq=65\n2020-08-24 12:36:15,708     INFO: Received image seq=66\n2020-08-24 12:36:15,806     INFO: Received image seq=67\n2020-08-24 12:36:15,896     INFO: Received image seq=68\n2020-08-24 12:36:15,987     INFO: Received image seq=69\n2020-08-24 12:36:16,076     INFO: Received image seq=70\n2020-08-24 12:36:16,139     INFO: Received image seq=71\n2020-08-24 12:36:16,216     INFO: Received image seq=72\n2020-08-24 12:36:16,302     INFO: Received image seq=73\n2020-08-24 12:36:20,445     INFO: Received image seq=74\n2020-08-24 12:36:20,527     INFO: Received image seq=75\n2020-08-24 12:36:20,591     INFO: Received image seq=76\n2020-08-24 12:36:20,671     INFO: Received image seq=77\n2020-08-24 12:36:20,741     INFO: Received image seq=78\n2020-08-24 12:36:20,789     INFO: Received image seq=79\n2020-08-24 12:36:20,883     INFO: Received image seq=80\n2020-08-24 12:36:20,935     INFO: Received image seq=81\n2020-08-24 12:36:21,032     INFO: Received image seq=82\n2020-08-24 12:36:21,098     INFO: Received image seq=83\n2020-08-24 12:36:21,223     INFO: Received image seq=84\n2020-08-24 12:36:21,314     INFO: Received image seq=85\n2020-08-24 12:36:25,390     INFO: Received image seq=86\n2020-08-24 12:36:25,475     INFO: Received image seq=87\n2020-08-24 12:36:25,569     INFO: Received image seq=88\n2020-08-24 12:36:25,648     INFO: Received image seq=89\n2020-08-24 12:36:25,802     INFO: Received image seq=90\n2020-08-24 12:36:25,938     INFO: Received image seq=91\n2020-08-24 12:36:26,038     INFO: Received image seq=92\n2020-08-24 12:36:26,172     INFO: Received image seq=93\n2020-08-24 12:36:26,243     INFO: Received image seq=94\n2020-08-24 12:36:30,289     INFO: Received image seq=95\n2020-08-24 12:36:30,344     INFO: Received image seq=96\n2020-08-24 12:36:30,432     INFO: Received image seq=97\n2020-08-24 12:36:30,513     INFO: Received image seq=98\n2020-08-24 12:36:30,583     INFO: Received image seq=99\n2020-08-24 12:36:30,651     INFO: Received image seq=100\n2020-08-24 12:36:30,734     INFO: Received image seq=101\n2020-08-24 12:36:30,783     INFO: Received image seq=102\n2020-08-24 12:36:30,881     INFO: Received image seq=103\n2020-08-24 12:36:30,963     INFO: Received image seq=104\n2020-08-24 12:36:31,046     INFO: Received image seq=105\n2020-08-24 12:36:31,170     INFO: Received image seq=106\n2020-08-24 12:36:35,284     INFO: Received image seq=107\n2020-08-24 12:36:35,359     INFO: Received image seq=108\n2020-08-24 12:36:35,416     INFO: Received image seq=109\n2020-08-24 12:36:35,502     INFO: Received image seq=110\n2020-08-24 12:36:35,554     INFO: Received image seq=111\n2020-08-24 12:36:35,621     INFO: Received image seq=112\n2020-08-24 12:36:35,701     INFO: Received image seq=113\n2020-08-24 12:36:35,779     INFO: Received image seq=114\n2020-08-24 12:36:35,863     INFO: Received image seq=115\n2020-08-24 12:36:35,928     INFO: Received image seq=116\n2020-08-24 12:36:36,005     INFO: Received image seq=117\n2020-08-24 12:36:36,055     INFO: Received image seq=118\n2020-08-24 12:36:36,135     INFO: Received image seq=119\n2020-08-24 12:36:40,306     INFO: Received image seq=120\n2020-08-24 12:36:40,397     INFO: Received image seq=121\n2020-08-24 12:36:40,466     INFO: Received image seq=122\n2020-08-24 12:36:40,550     INFO: Received image seq=123\n2020-08-24 12:36:40,644     INFO: Received image seq=124\n2020-08-24 12:36:40,744     INFO: Received image seq=125\n2020-08-24 12:36:40,839     INFO: Received image seq=126\n2020-08-24 12:36:41,000     INFO: Received image seq=127\n2020-08-24 12:36:41,084     INFO: Received image seq=128\n2020-08-24 12:36:41,194     INFO: Received image seq=129\n2020-08-24 12:36:45,364     INFO: Received image seq=129\n2020-08-24 12:36:45,432     INFO: Received image seq=130\n2020-08-24 12:36:45,516     INFO: Received image seq=131\n2020-08-24 12:36:45,696     INFO: Received image seq=132\n2020-08-24 12:36:45,781     INFO: Received image seq=133\n2020-08-24 12:36:45,864     INFO: Received image seq=134\n2020-08-24 12:36:46,004     INFO: Received image seq=135\n2020-08-24 12:36:46,132     INFO: Received image seq=136\n2020-08-24 12:36:46,236     INFO: Received image seq=137\n2020-08-24 12:36:50,350     INFO: Received image seq=139\n2020-08-24 12:36:50,413     INFO: Received image seq=140\n2020-08-24 12:36:50,538     INFO: Received image seq=141\n2020-08-24 12:36:50,616     INFO: Received image seq=142\n2020-08-24 12:36:50,712     INFO: Received image seq=143\n2020-08-24 12:36:50,770     INFO: Received image seq=144\n2020-08-24 12:36:50,875     INFO: Received image seq=145\n2020-08-24 12:36:50,982     INFO: Received image seq=146\n2020-08-24 12:36:51,082     INFO: Received image seq=147\n2020-08-24 12:36:51,172     INFO: Received image seq=148\n2020-08-24 12:36:55,208     INFO: Received image seq=149\n2020-08-24 12:36:55,287     INFO: Received image seq=150\n2020-08-24 12:36:55,358     INFO: Received image seq=151\n2020-08-24 12:36:55,444     INFO: Received image seq=152\n2020-08-24 12:36:55,551     INFO: Received image seq=153\n2020-08-24 12:36:55,618     INFO: Received image seq=154\n2020-08-24 12:36:55,723     INFO: Received image seq=155\n2020-08-24 12:36:55,798     INFO: Received image seq=156\n2020-08-24 12:36:55,876     INFO: Received image seq=157\n2020-08-24 12:36:55,968     INFO: Received image seq=158\n2020-08-24 12:36:56,083     INFO: Received image seq=159\n2020-08-24 12:37:00,179     INFO: Received image seq=159\n2020-08-24 12:37:00,258     INFO: Received image seq=160\n2020-08-24 12:37:00,378     INFO: Received image seq=161\n2020-08-24 12:37:00,482     INFO: Received image seq=162\n2020-08-24 12:37:00,581     INFO: Received image seq=163\n2020-08-24 12:37:00,690     INFO: Received image seq=164\n2020-08-24 12:37:00,807     INFO: Received image seq=165\n2020-08-24 12:37:00,927     INFO: Received image seq=166\n2020-08-24 12:37:01,002     INFO: Received image seq=167\n2020-08-24 12:37:01,059     INFO: Received image seq=168\n2020-08-24 12:37:05,171     INFO: Received image seq=169\n2020-08-24 12:37:05,278     INFO: Received image seq=170\n2020-08-24 12:37:05,330     INFO: Received image seq=171\n2020-08-24 12:37:05,392     INFO: Received image seq=172\n2020-08-24 12:37:05,465     INFO: Received image seq=173\n2020-08-24 12:37:05,540     INFO: Received image seq=174\n2020-08-24 12:37:05,632     INFO: Received image seq=175\n2020-08-24 12:37:05,710     INFO: Received image seq=176\n2020-08-24 12:37:05,799     INFO: Received image seq=177\n2020-08-24 12:37:05,882     INFO: Received image seq=178\n2020-08-24 12:37:05,981     INFO: Received image seq=179\n2020-08-24 12:37:06,066     INFO: Received image seq=180\n2020-08-24 12:37:10,215     INFO: Received image seq=180\n2020-08-24 12:37:10,277     INFO: Received image seq=181\n2020-08-24 12:37:10,362     INFO: Received image seq=182\n2020-08-24 12:37:10,450     INFO: Received image seq=183\n2020-08-24 12:37:10,534     INFO: Received image seq=184\n2020-08-24 12:37:10,674     INFO: Received image seq=185\n2020-08-24 12:37:10,777     INFO: Received image seq=186\n2020-08-24 12:37:10,906     INFO: Received image seq=187\n2020-08-24 12:37:11,004     INFO: Received image seq=188\n2020-08-24 12:37:11,075     INFO: Received image seq=189\n2020-08-24 12:37:15,203     INFO: Received image seq=190\n2020-08-24 12:37:15,297     INFO: Received image seq=191\n2020-08-24 12:37:15,392     INFO: Received image seq=192\n2020-08-24 12:37:15,486     INFO: Received image seq=193\n2020-08-24 12:37:15,559     INFO: Received image seq=194\n2020-08-24 12:37:15,654     INFO: Received image seq=195\n2020-08-24 12:37:15,737     INFO: Received image seq=196\n2020-08-24 12:37:15,837     INFO: Received image seq=197\n2020-08-24 12:37:15,910     INFO: Received image seq=198\n2020-08-24 12:37:16,030     INFO: Received image seq=199\n2020-08-24 12:37:20,207     INFO: Received image seq=200\n2020-08-24 12:37:20,260     INFO: Received image seq=201\n2020-08-24 12:37:20,400     INFO: Received image seq=202\n2020-08-24 12:37:20,500     INFO: Received image seq=203\n2020-08-24 12:37:20,609     INFO: Received image seq=204\n2020-08-24 12:37:20,688     INFO: Received image seq=205\n2020-08-24 12:37:20,772     INFO: Received image seq=206\n2020-08-24 12:37:20,841     INFO: Received image seq=207\n2020-08-24 12:37:20,925     INFO: Received image seq=208\n2020-08-24 12:37:21,027     INFO: Received image seq=209\n2020-08-24 12:37:21,112     INFO: Received image seq=210\n"
    }
   ],
   "source": [
    "for i in range(20):\n",
    "    env.step(np.random.randint(4))\n",
    "    env.render()"
   ]
  }
 ],
 "metadata": {
  "kernelspec": {
   "display_name": "Python 3.6.9 64-bit ('venv': virtualenv)",
   "language": "python",
   "name": "python36964bitvenvvirtualenv7e3520635ff84bc18d17652efd63c9bd"
  },
  "language_info": {
   "codemirror_mode": {
    "name": "ipython",
    "version": 3
   },
   "file_extension": ".py",
   "mimetype": "text/x-python",
   "name": "python",
   "nbconvert_exporter": "python",
   "pygments_lexer": "ipython3",
   "version": "3.6.9-final"
  }
 },
 "nbformat": 4,
 "nbformat_minor": 2
}